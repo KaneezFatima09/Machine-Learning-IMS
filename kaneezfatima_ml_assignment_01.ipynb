{
 "cells": [
  {
   "cell_type": "markdown",
   "id": "7a063474-7f09-4b2d-9c6a-0c97b449f437",
   "metadata": {},
   "source": [
    "## ***ASSIGNMENT NO.1***\n",
    "* **SUBJECT**: MACHINE LEARNING\n",
    "* **NAME** : KANEEZ FATIMA \n",
    "* **SUBMITTED TO** : SIR ADNAN AMIN \n",
    "* **DATE** : 9th SEPT 2024"
   ]
  },
  {
   "cell_type": "code",
   "execution_count": 1,
   "id": "93b31217-c88f-487e-b936-72d737f3d259",
   "metadata": {},
   "outputs": [
    {
     "name": "stdout",
     "output_type": "stream",
     "text": [
      "a is not equals to 1\n"
     ]
    }
   ],
   "source": [
    "#QUESTION NO.1\n",
    "\n",
    "a=11\n",
    "\n",
    "if a==7 :\n",
    " print(\"a equals 1\")\n",
    "\n",
    "else:\n",
    " print(\"a is not equals to 1\")"
   ]
  },
  {
   "cell_type": "code",
   "execution_count": 2,
   "id": "b49e95c2-1067-4db6-bf0f-15d579c754e0",
   "metadata": {},
   "outputs": [
    {
     "name": "stdout",
     "output_type": "stream",
     "text": [
      "20\n"
     ]
    }
   ],
   "source": [
    "#QUESTION NO.2 \n",
    "\n",
    "a=13\n",
    "if a>=10 and a<=30 :\n",
    "    a=20\n",
    "    print(a)\n",
    "    \n",
    "    #if we want to print something else if the condition is not met then we will use else\n",
    "#else :\n",
    "   # print(\"out of range\")\n"
   ]
  },
  {
   "cell_type": "code",
   "execution_count": 3,
   "id": "863eb641-7a9c-4149-8c55-aed83e6d00ce",
   "metadata": {},
   "outputs": [
    {
     "name": "stdout",
     "output_type": "stream",
     "text": [
      "0\n"
     ]
    }
   ],
   "source": [
    "#QUESTION NO.3\n",
    "\n",
    "a=3\n",
    "if a<10 :\n",
    "\n",
    "    b=0\n",
    "    print(b)\n",
    "else:\n",
    "     b=99\n",
    "     print(b)\n"
   ]
  },
  {
   "cell_type": "code",
   "execution_count": 4,
   "id": "b985e8b4-6ce5-412b-a811-8817e53a40fb",
   "metadata": {},
   "outputs": [
    {
     "name": "stdout",
     "output_type": "stream",
     "text": [
      "Your grade is C.\n"
     ]
    }
   ],
   "source": [
    "#QUESTION NO.4\n",
    "\n",
    "score=67\n",
    "A_score= 90\n",
    "B_score=70\n",
    "C_score=60\n",
    "D_score=59\n",
    "\n",
    "if score >= A_score:\n",
    "  print('Your grade is A.')\n",
    "else:\n",
    "  if score >= B_score:\n",
    "    print('Your grade is B.')\n",
    "  else:\n",
    "    if score >= C_score:\n",
    "      print('Your grade is C.')\n",
    "    else:\n",
    "      if score >= D_score:\n",
    "        print('Your grade is D.')\n",
    "      else:\n",
    "        print('Your grade is F.')"
   ]
  },
  {
   "cell_type": "code",
   "execution_count": 5,
   "id": "cb69bddd-8bf5-43e0-bd58-fc7b06c3954a",
   "metadata": {},
   "outputs": [
    {
     "name": "stdin",
     "output_type": "stream",
     "text": [
      "ENTER THE SPEED AT WHICH YOU ARE DRIVING. 70\n"
     ]
    },
    {
     "name": "stdout",
     "output_type": "stream",
     "text": [
      "Speed in limit\n"
     ]
    }
   ],
   "source": [
    "#QUESTION NO.5\n",
    "\n",
    "speed=int(input(\"ENTER THE SPEED AT WHICH YOU ARE DRIVING.\"))\n",
    "if speed>50 :\n",
    "  print(\"Speed in limit\")\n",
    "else:\n",
    "  print(\"Speed should be checked\")"
   ]
  },
  {
   "cell_type": "code",
   "execution_count": 6,
   "id": "994ba14f-d705-4ffc-aaf9-7907017eb8fa",
   "metadata": {},
   "outputs": [
    {
     "name": "stdout",
     "output_type": "stream",
     "text": [
      "Speed is abnormal\n"
     ]
    }
   ],
   "source": [
    "#QUESTION NO.6\n",
    "\n",
    "s=80\n",
    "if s>=24 and s<=56 :\n",
    "    print(\"Speed is normal\")\n",
    "else :\n",
    "    print (\"Speed is abnormal\")"
   ]
  },
  {
   "cell_type": "code",
   "execution_count": 7,
   "id": "78eb4d86-9dd2-4dba-8403-5a94c967ba88",
   "metadata": {},
   "outputs": [
    {
     "name": "stdout",
     "output_type": "stream",
     "text": [
      "Invalid points\n"
     ]
    }
   ],
   "source": [
    "#QUESTION NO.7\n",
    "\n",
    "points= 54\n",
    "if points>=9 and points<=51 :\n",
    "    print(\"Valid points\")\n",
    "else :\n",
    "    print(\"Invalid points\")"
   ]
  },
  {
   "cell_type": "code",
   "execution_count": null,
   "id": "d98dd11c-85c4-430e-8ea5-859afdff9006",
   "metadata": {},
   "outputs": [],
   "source": []
  }
 ],
 "metadata": {
  "kernelspec": {
   "display_name": "Python 3 (ipykernel)",
   "language": "python",
   "name": "python3"
  },
  "language_info": {
   "codemirror_mode": {
    "name": "ipython",
    "version": 3
   },
   "file_extension": ".py",
   "mimetype": "text/x-python",
   "name": "python",
   "nbconvert_exporter": "python",
   "pygments_lexer": "ipython3",
   "version": "3.12.4"
  }
 },
 "nbformat": 4,
 "nbformat_minor": 5
}
